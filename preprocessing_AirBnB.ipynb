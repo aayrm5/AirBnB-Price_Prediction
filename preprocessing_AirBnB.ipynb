{
 "cells": [
  {
   "cell_type": "code",
   "execution_count": 1,
   "metadata": {},
   "outputs": [],
   "source": [
    "#importing required packages.\n",
    "import numpy as np\n",
    "import pandas as pd\n",
    "import matplotlib.pyplot as plt\n",
    "%matplotlib inline"
   ]
  },
  {
   "cell_type": "code",
   "execution_count": 2,
   "metadata": {},
   "outputs": [],
   "source": [
    "pd.set_option('display.max_columns',50) #display columns upto 50."
   ]
  },
  {
   "cell_type": "code",
   "execution_count": 3,
   "metadata": {},
   "outputs": [],
   "source": [
    "#reading the train.csv file as a pandas DataFrame\n",
    "train_df = pd.read_csv(\"train.csv\")"
   ]
  },
  {
   "cell_type": "code",
   "execution_count": 4,
   "metadata": {},
   "outputs": [
    {
     "data": {
      "text/html": [
       "<div>\n",
       "<style scoped>\n",
       "    .dataframe tbody tr th:only-of-type {\n",
       "        vertical-align: middle;\n",
       "    }\n",
       "\n",
       "    .dataframe tbody tr th {\n",
       "        vertical-align: top;\n",
       "    }\n",
       "\n",
       "    .dataframe thead th {\n",
       "        text-align: right;\n",
       "    }\n",
       "</style>\n",
       "<table border=\"1\" class=\"dataframe\">\n",
       "  <thead>\n",
       "    <tr style=\"text-align: right;\">\n",
       "      <th></th>\n",
       "      <th>id</th>\n",
       "      <th>property_type</th>\n",
       "      <th>room_type</th>\n",
       "      <th>amenities</th>\n",
       "      <th>accommodates</th>\n",
       "      <th>bathrooms</th>\n",
       "      <th>bed_type</th>\n",
       "      <th>cancellation_policy</th>\n",
       "      <th>cleaning_fee</th>\n",
       "      <th>city</th>\n",
       "      <th>description</th>\n",
       "      <th>first_review</th>\n",
       "      <th>host_has_profile_pic</th>\n",
       "      <th>host_identity_verified</th>\n",
       "      <th>host_response_rate</th>\n",
       "      <th>host_since</th>\n",
       "      <th>instant_bookable</th>\n",
       "      <th>last_review</th>\n",
       "      <th>latitude</th>\n",
       "      <th>longitude</th>\n",
       "      <th>name</th>\n",
       "      <th>neighbourhood</th>\n",
       "      <th>number_of_reviews</th>\n",
       "      <th>review_scores_rating</th>\n",
       "      <th>thumbnail_url</th>\n",
       "      <th>zipcode</th>\n",
       "      <th>bedrooms</th>\n",
       "      <th>beds</th>\n",
       "      <th>log_price</th>\n",
       "      <th></th>\n",
       "    </tr>\n",
       "  </thead>\n",
       "  <tbody>\n",
       "    <tr>\n",
       "      <th>0</th>\n",
       "      <td>6901257</td>\n",
       "      <td>Apartment</td>\n",
       "      <td>Entire home/apt</td>\n",
       "      <td>{\"Wireless Internet\",\"Air conditioning\",Kitche...</td>\n",
       "      <td>3</td>\n",
       "      <td>1.0</td>\n",
       "      <td>Real Bed</td>\n",
       "      <td>strict</td>\n",
       "      <td>True</td>\n",
       "      <td>NYC</td>\n",
       "      <td>Beautiful, sunlit brownstone 1-bedroom in the ...</td>\n",
       "      <td>6/18/2016</td>\n",
       "      <td>t</td>\n",
       "      <td>t</td>\n",
       "      <td>NaN</td>\n",
       "      <td>3/26/2012</td>\n",
       "      <td>f</td>\n",
       "      <td>7/18/2016</td>\n",
       "      <td>40.696524</td>\n",
       "      <td>-73.991617</td>\n",
       "      <td>Beautiful brownstone 1-bedroom</td>\n",
       "      <td>Brooklyn Heights</td>\n",
       "      <td>2</td>\n",
       "      <td>100.0</td>\n",
       "      <td>https://a0.muscache.com/im/pictures/6d7cbbf7-c...</td>\n",
       "      <td>11201</td>\n",
       "      <td>1.0</td>\n",
       "      <td>1.0</td>\n",
       "      <td>5.010635</td>\n",
       "      <td>NaN</td>\n",
       "    </tr>\n",
       "    <tr>\n",
       "      <th>1</th>\n",
       "      <td>6304928</td>\n",
       "      <td>Apartment</td>\n",
       "      <td>Entire home/apt</td>\n",
       "      <td>{\"Wireless Internet\",\"Air conditioning\",Kitche...</td>\n",
       "      <td>7</td>\n",
       "      <td>1.0</td>\n",
       "      <td>Real Bed</td>\n",
       "      <td>strict</td>\n",
       "      <td>True</td>\n",
       "      <td>NYC</td>\n",
       "      <td>Enjoy travelling during your stay in Manhattan...</td>\n",
       "      <td>08-05-2017</td>\n",
       "      <td>t</td>\n",
       "      <td>f</td>\n",
       "      <td>100%</td>\n",
       "      <td>6/19/2017</td>\n",
       "      <td>t</td>\n",
       "      <td>9/23/2017</td>\n",
       "      <td>40.766115</td>\n",
       "      <td>-73.989040</td>\n",
       "      <td>Superb 3BR Apt Located Near Times Square</td>\n",
       "      <td>Hell's Kitchen</td>\n",
       "      <td>6</td>\n",
       "      <td>93.0</td>\n",
       "      <td>https://a0.muscache.com/im/pictures/348a55fe-4...</td>\n",
       "      <td>10019</td>\n",
       "      <td>3.0</td>\n",
       "      <td>3.0</td>\n",
       "      <td>5.129899</td>\n",
       "      <td>NaN</td>\n",
       "    </tr>\n",
       "  </tbody>\n",
       "</table>\n",
       "</div>"
      ],
      "text/plain": [
       "        id property_type        room_type  \\\n",
       "0  6901257     Apartment  Entire home/apt   \n",
       "1  6304928     Apartment  Entire home/apt   \n",
       "\n",
       "                                           amenities  accommodates  bathrooms  \\\n",
       "0  {\"Wireless Internet\",\"Air conditioning\",Kitche...             3        1.0   \n",
       "1  {\"Wireless Internet\",\"Air conditioning\",Kitche...             7        1.0   \n",
       "\n",
       "   bed_type cancellation_policy  cleaning_fee city  \\\n",
       "0  Real Bed              strict          True  NYC   \n",
       "1  Real Bed              strict          True  NYC   \n",
       "\n",
       "                                         description first_review  \\\n",
       "0  Beautiful, sunlit brownstone 1-bedroom in the ...    6/18/2016   \n",
       "1  Enjoy travelling during your stay in Manhattan...   08-05-2017   \n",
       "\n",
       "  host_has_profile_pic host_identity_verified host_response_rate host_since  \\\n",
       "0                    t                      t                NaN  3/26/2012   \n",
       "1                    t                      f               100%  6/19/2017   \n",
       "\n",
       "  instant_bookable last_review   latitude  longitude  \\\n",
       "0                f   7/18/2016  40.696524 -73.991617   \n",
       "1                t   9/23/2017  40.766115 -73.989040   \n",
       "\n",
       "                                       name     neighbourhood  \\\n",
       "0            Beautiful brownstone 1-bedroom  Brooklyn Heights   \n",
       "1  Superb 3BR Apt Located Near Times Square    Hell's Kitchen   \n",
       "\n",
       "   number_of_reviews  review_scores_rating  \\\n",
       "0                  2                 100.0   \n",
       "1                  6                  93.0   \n",
       "\n",
       "                                       thumbnail_url zipcode  bedrooms  beds  \\\n",
       "0  https://a0.muscache.com/im/pictures/6d7cbbf7-c...   11201       1.0   1.0   \n",
       "1  https://a0.muscache.com/im/pictures/348a55fe-4...   10019       3.0   3.0   \n",
       "\n",
       "   log_price      \n",
       "0   5.010635 NaN  \n",
       "1   5.129899 NaN  "
      ]
     },
     "execution_count": 4,
     "metadata": {},
     "output_type": "execute_result"
    }
   ],
   "source": [
    "train_df.head(2)"
   ]
  },
  {
   "cell_type": "code",
   "execution_count": 5,
   "metadata": {},
   "outputs": [
    {
     "data": {
      "text/plain": [
       "Index(['id', 'property_type', 'room_type', 'amenities', 'accommodates',\n",
       "       'bathrooms', 'bed_type', 'cancellation_policy', 'cleaning_fee', 'city',\n",
       "       'description', 'first_review', 'host_has_profile_pic',\n",
       "       'host_identity_verified', 'host_response_rate', 'host_since',\n",
       "       'instant_bookable', 'last_review', 'latitude', 'longitude', 'name',\n",
       "       'neighbourhood', 'number_of_reviews', 'review_scores_rating',\n",
       "       'thumbnail_url', 'zipcode', 'bedrooms', 'beds', 'log_price', ' '],\n",
       "      dtype='object')"
      ]
     },
     "execution_count": 5,
     "metadata": {},
     "output_type": "execute_result"
    }
   ],
   "source": [
    "#List of features in the given data.\n",
    "train_df.columns"
   ]
  },
  {
   "cell_type": "code",
   "execution_count": 6,
   "metadata": {},
   "outputs": [],
   "source": [
    "# train_df.info()"
   ]
  },
  {
   "cell_type": "code",
   "execution_count": 7,
   "metadata": {},
   "outputs": [],
   "source": [
    "#reading the test.csv file as a pandas DataFrame\n",
    "test_df = pd.read_excel('test.xlsx')"
   ]
  },
  {
   "cell_type": "code",
   "execution_count": 8,
   "metadata": {},
   "outputs": [],
   "source": [
    "# test_df.head()"
   ]
  },
  {
   "cell_type": "code",
   "execution_count": 9,
   "metadata": {},
   "outputs": [],
   "source": [
    "# test_df.info()"
   ]
  },
  {
   "cell_type": "code",
   "execution_count": 10,
   "metadata": {},
   "outputs": [],
   "source": [
    "del train_df[' '] #removing empty column from the train_dataset"
   ]
  },
  {
   "cell_type": "code",
   "execution_count": 11,
   "metadata": {},
   "outputs": [],
   "source": [
    "del test_df[' '] #removing empty column from the test_dataset"
   ]
  },
  {
   "cell_type": "code",
   "execution_count": 12,
   "metadata": {},
   "outputs": [],
   "source": [
    "#creating identifiers in the train, test datasets\n",
    "train_df['data'] = 'train'\n",
    "test_df['data'] = 'test'"
   ]
  },
  {
   "cell_type": "code",
   "execution_count": 13,
   "metadata": {},
   "outputs": [],
   "source": [
    "#Creating an empty target variable in test to hold same number of columns as train.\n",
    "test_df['log_price'] = np.nan"
   ]
  },
  {
   "cell_type": "code",
   "execution_count": 14,
   "metadata": {},
   "outputs": [],
   "source": [
    "#Joining the datasets for combined pre-processing.\n",
    "df_all = pd.concat([train_df,test_df], axis=0)"
   ]
  },
  {
   "cell_type": "code",
   "execution_count": 15,
   "metadata": {},
   "outputs": [
    {
     "name": "stdout",
     "output_type": "stream",
     "text": [
      "<class 'pandas.core.frame.DataFrame'>\n",
      "Int64Index: 74110 entries, 0 to 24110\n",
      "Data columns (total 30 columns):\n",
      " #   Column                  Non-Null Count  Dtype  \n",
      "---  ------                  --------------  -----  \n",
      " 0   id                      74110 non-null  int64  \n",
      " 1   property_type           74110 non-null  object \n",
      " 2   room_type               74110 non-null  object \n",
      " 3   amenities               74110 non-null  object \n",
      " 4   accommodates            74110 non-null  int64  \n",
      " 5   bathrooms               73910 non-null  float64\n",
      " 6   bed_type                74110 non-null  object \n",
      " 7   cancellation_policy     74110 non-null  object \n",
      " 8   cleaning_fee            74110 non-null  bool   \n",
      " 9   city                    74110 non-null  object \n",
      " 10  description             74109 non-null  object \n",
      " 11  first_review            58246 non-null  object \n",
      " 12  host_has_profile_pic    73922 non-null  object \n",
      " 13  host_identity_verified  73922 non-null  object \n",
      " 14  host_response_rate      55811 non-null  object \n",
      " 15  host_since              73922 non-null  object \n",
      " 16  instant_bookable        74110 non-null  object \n",
      " 17  last_review             58283 non-null  object \n",
      " 18  latitude                74110 non-null  float64\n",
      " 19  longitude               74110 non-null  float64\n",
      " 20  name                    74106 non-null  object \n",
      " 21  neighbourhood           67238 non-null  object \n",
      " 22  number_of_reviews       74110 non-null  int64  \n",
      " 23  review_scores_rating    57388 non-null  float64\n",
      " 24  thumbnail_url           65894 non-null  object \n",
      " 25  zipcode                 73144 non-null  object \n",
      " 26  bedrooms                74019 non-null  float64\n",
      " 27  beds                    73979 non-null  float64\n",
      " 28  log_price               49999 non-null  float64\n",
      " 29  data                    74110 non-null  object \n",
      "dtypes: bool(1), float64(7), int64(3), object(19)\n",
      "memory usage: 17.0+ MB\n"
     ]
    }
   ],
   "source": [
    "df_all.info()"
   ]
  },
  {
   "cell_type": "code",
   "execution_count": 16,
   "metadata": {},
   "outputs": [
    {
     "data": {
      "text/html": [
       "<div>\n",
       "<style scoped>\n",
       "    .dataframe tbody tr th:only-of-type {\n",
       "        vertical-align: middle;\n",
       "    }\n",
       "\n",
       "    .dataframe tbody tr th {\n",
       "        vertical-align: top;\n",
       "    }\n",
       "\n",
       "    .dataframe thead th {\n",
       "        text-align: right;\n",
       "    }\n",
       "</style>\n",
       "<table border=\"1\" class=\"dataframe\">\n",
       "  <thead>\n",
       "    <tr style=\"text-align: right;\">\n",
       "      <th></th>\n",
       "      <th>id</th>\n",
       "      <th>accommodates</th>\n",
       "      <th>bathrooms</th>\n",
       "      <th>latitude</th>\n",
       "      <th>longitude</th>\n",
       "      <th>number_of_reviews</th>\n",
       "      <th>review_scores_rating</th>\n",
       "      <th>bedrooms</th>\n",
       "      <th>beds</th>\n",
       "      <th>log_price</th>\n",
       "    </tr>\n",
       "  </thead>\n",
       "  <tbody>\n",
       "    <tr>\n",
       "      <th>count</th>\n",
       "      <td>7.411000e+04</td>\n",
       "      <td>74110.000000</td>\n",
       "      <td>73910.000000</td>\n",
       "      <td>74110.000000</td>\n",
       "      <td>74110.000000</td>\n",
       "      <td>74110.000000</td>\n",
       "      <td>57388.000000</td>\n",
       "      <td>74019.000000</td>\n",
       "      <td>73979.000000</td>\n",
       "      <td>49999.000000</td>\n",
       "    </tr>\n",
       "    <tr>\n",
       "      <th>mean</th>\n",
       "      <td>1.126653e+07</td>\n",
       "      <td>3.155175</td>\n",
       "      <td>1.235266</td>\n",
       "      <td>38.445926</td>\n",
       "      <td>-92.397775</td>\n",
       "      <td>20.900810</td>\n",
       "      <td>94.067488</td>\n",
       "      <td>1.265797</td>\n",
       "      <td>1.710877</td>\n",
       "      <td>4.781831</td>\n",
       "    </tr>\n",
       "    <tr>\n",
       "      <th>std</th>\n",
       "      <td>6.081726e+06</td>\n",
       "      <td>2.153589</td>\n",
       "      <td>0.582047</td>\n",
       "      <td>3.080175</td>\n",
       "      <td>21.705361</td>\n",
       "      <td>37.828839</td>\n",
       "      <td>7.836569</td>\n",
       "      <td>0.852149</td>\n",
       "      <td>1.254148</td>\n",
       "      <td>0.716910</td>\n",
       "    </tr>\n",
       "    <tr>\n",
       "      <th>min</th>\n",
       "      <td>3.440000e+02</td>\n",
       "      <td>1.000000</td>\n",
       "      <td>0.000000</td>\n",
       "      <td>33.338905</td>\n",
       "      <td>-122.511500</td>\n",
       "      <td>0.000000</td>\n",
       "      <td>20.000000</td>\n",
       "      <td>0.000000</td>\n",
       "      <td>0.000000</td>\n",
       "      <td>1.609438</td>\n",
       "    </tr>\n",
       "    <tr>\n",
       "      <th>25%</th>\n",
       "      <td>6.261961e+06</td>\n",
       "      <td>2.000000</td>\n",
       "      <td>1.000000</td>\n",
       "      <td>34.127908</td>\n",
       "      <td>-118.342380</td>\n",
       "      <td>1.000000</td>\n",
       "      <td>92.000000</td>\n",
       "      <td>1.000000</td>\n",
       "      <td>1.000000</td>\n",
       "      <td>4.317488</td>\n",
       "    </tr>\n",
       "    <tr>\n",
       "      <th>50%</th>\n",
       "      <td>1.225413e+07</td>\n",
       "      <td>2.000000</td>\n",
       "      <td>1.000000</td>\n",
       "      <td>40.662137</td>\n",
       "      <td>-76.996971</td>\n",
       "      <td>6.000000</td>\n",
       "      <td>96.000000</td>\n",
       "      <td>1.000000</td>\n",
       "      <td>1.000000</td>\n",
       "      <td>4.709530</td>\n",
       "    </tr>\n",
       "    <tr>\n",
       "      <th>75%</th>\n",
       "      <td>1.640216e+07</td>\n",
       "      <td>4.000000</td>\n",
       "      <td>1.000000</td>\n",
       "      <td>40.746093</td>\n",
       "      <td>-73.954661</td>\n",
       "      <td>23.000000</td>\n",
       "      <td>100.000000</td>\n",
       "      <td>1.000000</td>\n",
       "      <td>2.000000</td>\n",
       "      <td>5.220356</td>\n",
       "    </tr>\n",
       "    <tr>\n",
       "      <th>max</th>\n",
       "      <td>2.123090e+07</td>\n",
       "      <td>16.000000</td>\n",
       "      <td>8.000000</td>\n",
       "      <td>42.390437</td>\n",
       "      <td>-70.985047</td>\n",
       "      <td>605.000000</td>\n",
       "      <td>100.000000</td>\n",
       "      <td>10.000000</td>\n",
       "      <td>18.000000</td>\n",
       "      <td>7.600402</td>\n",
       "    </tr>\n",
       "  </tbody>\n",
       "</table>\n",
       "</div>"
      ],
      "text/plain": [
       "                 id  accommodates     bathrooms      latitude     longitude  \\\n",
       "count  7.411000e+04  74110.000000  73910.000000  74110.000000  74110.000000   \n",
       "mean   1.126653e+07      3.155175      1.235266     38.445926    -92.397775   \n",
       "std    6.081726e+06      2.153589      0.582047      3.080175     21.705361   \n",
       "min    3.440000e+02      1.000000      0.000000     33.338905   -122.511500   \n",
       "25%    6.261961e+06      2.000000      1.000000     34.127908   -118.342380   \n",
       "50%    1.225413e+07      2.000000      1.000000     40.662137    -76.996971   \n",
       "75%    1.640216e+07      4.000000      1.000000     40.746093    -73.954661   \n",
       "max    2.123090e+07     16.000000      8.000000     42.390437    -70.985047   \n",
       "\n",
       "       number_of_reviews  review_scores_rating      bedrooms          beds  \\\n",
       "count       74110.000000          57388.000000  74019.000000  73979.000000   \n",
       "mean           20.900810             94.067488      1.265797      1.710877   \n",
       "std            37.828839              7.836569      0.852149      1.254148   \n",
       "min             0.000000             20.000000      0.000000      0.000000   \n",
       "25%             1.000000             92.000000      1.000000      1.000000   \n",
       "50%             6.000000             96.000000      1.000000      1.000000   \n",
       "75%            23.000000            100.000000      1.000000      2.000000   \n",
       "max           605.000000            100.000000     10.000000     18.000000   \n",
       "\n",
       "          log_price  \n",
       "count  49999.000000  \n",
       "mean       4.781831  \n",
       "std        0.716910  \n",
       "min        1.609438  \n",
       "25%        4.317488  \n",
       "50%        4.709530  \n",
       "75%        5.220356  \n",
       "max        7.600402  "
      ]
     },
     "execution_count": 16,
     "metadata": {},
     "output_type": "execute_result"
    }
   ],
   "source": [
    "df_all.describe()"
   ]
  },
  {
   "cell_type": "code",
   "execution_count": 17,
   "metadata": {},
   "outputs": [
    {
     "data": {
      "text/plain": [
       "id                            0\n",
       "property_type                 0\n",
       "room_type                     0\n",
       "amenities                     0\n",
       "accommodates                  0\n",
       "bathrooms                   200\n",
       "bed_type                      0\n",
       "cancellation_policy           0\n",
       "cleaning_fee                  0\n",
       "city                          0\n",
       "description                   1\n",
       "first_review              15864\n",
       "host_has_profile_pic        188\n",
       "host_identity_verified      188\n",
       "host_response_rate        18299\n",
       "host_since                  188\n",
       "instant_bookable              0\n",
       "last_review               15827\n",
       "latitude                      0\n",
       "longitude                     0\n",
       "name                          4\n",
       "neighbourhood              6872\n",
       "number_of_reviews             0\n",
       "review_scores_rating      16722\n",
       "thumbnail_url              8216\n",
       "zipcode                     966\n",
       "bedrooms                     91\n",
       "beds                        131\n",
       "log_price                 24111\n",
       "data                          0\n",
       "dtype: int64"
      ]
     },
     "execution_count": 17,
     "metadata": {},
     "output_type": "execute_result"
    }
   ],
   "source": [
    "df_all.isnull().sum()"
   ]
  },
  {
   "cell_type": "markdown",
   "metadata": {},
   "source": [
    "### Cleaning individual columns"
   ]
  },
  {
   "cell_type": "markdown",
   "metadata": {},
   "source": [
    "#### Checking the null values in `host_has_profile_pic`, `host_identity_verified` & `host_since`         "
   ]
  },
  {
   "cell_type": "code",
   "execution_count": 18,
   "metadata": {},
   "outputs": [
    {
     "data": {
      "text/plain": [
       "188"
      ]
     },
     "execution_count": 18,
     "metadata": {},
     "output_type": "execute_result"
    }
   ],
   "source": [
    "len(df_all[df_all.loc[ :,['host_since','host_has_profile_pic', 'host_identity_verified'] ].isnull().sum(axis=1) == 3])\n",
    "#As these three columns have 188 rows empty, removing them from data.  "
   ]
  },
  {
   "cell_type": "code",
   "execution_count": 19,
   "metadata": {},
   "outputs": [],
   "source": [
    "df_all.dropna(subset = ['host_since'], inplace=True)"
   ]
  },
  {
   "cell_type": "markdown",
   "metadata": {},
   "source": [
    "#### `host_response_rate`"
   ]
  },
  {
   "cell_type": "code",
   "execution_count": 20,
   "metadata": {},
   "outputs": [
    {
     "name": "stdout",
     "output_type": "stream",
     "text": [
      "Null Values: 18111\n",
      "Proportion of Null Values: 24.5%\n"
     ]
    }
   ],
   "source": [
    "print('Null Values:', df_all.host_response_rate.isna().sum())\n",
    "\n",
    "print(f\"Proportion of Null Values: {round(df_all.host_response_rate.isna().sum()/len(df_all)*100,1)}%\")"
   ]
  },
  {
   "cell_type": "code",
   "execution_count": 21,
   "metadata": {},
   "outputs": [],
   "source": [
    "#removing &sign from the column and converting it into numeric object.\n",
    "df_all['host_response_rate'] = df_all['host_response_rate'].str[:-1].astype('float64')"
   ]
  },
  {
   "cell_type": "code",
   "execution_count": 22,
   "metadata": {},
   "outputs": [
    {
     "name": "stdout",
     "output_type": "stream",
     "text": [
      "Mean host response rate: 94.0\n",
      "Median host response rate: 100.0\n",
      "Proportion of 100% host response rates: 77.3%\n"
     ]
    }
   ],
   "source": [
    "print(\"Mean host response rate:\", round(df_all['host_response_rate'].mean(),0))\n",
    "print(\"Median host response rate:\", df_all['host_response_rate'].median())\n",
    "print(f\"Proportion of 100% host response rates: {round(((df_all.host_response_rate == 100.0).sum()/df_all.host_response_rate.count())*100,1)}%\")"
   ]
  },
  {
   "cell_type": "code",
   "execution_count": 23,
   "metadata": {},
   "outputs": [],
   "source": [
    "#as 77% of hosts respond 100%, and about 25% of values being NULL, binning these feature into suitable categories.\n",
    "\n",
    "df_all['host_response_rate'] = pd.cut(df_all['host_response_rate'],\n",
    "                                     bins = [0,50,90,99,100],\n",
    "                                     labels = ['0-49%','50-89%','90-99%','100%'],\n",
    "                                     include_lowest=True)"
   ]
  },
  {
   "cell_type": "code",
   "execution_count": 24,
   "metadata": {},
   "outputs": [
    {
     "data": {
      "text/plain": [
       "unknown    36261\n",
       "100%       29124\n",
       "50-89%      4945\n",
       "90-99%      2169\n",
       "0-49%       1423\n",
       "Name: host_response_rate, dtype: int64"
      ]
     },
     "execution_count": 24,
     "metadata": {},
     "output_type": "execute_result"
    }
   ],
   "source": [
    "#converting the column to string\n",
    "df_all['host_response_rate'] = df_all['host_response_rate'].astype('str')\n",
    "\n",
    "#Replace null values with 'unknown' category\n",
    "df_all['host_response_rate'].replace('nan','unknown',inplace=True)\n",
    "\n",
    "#category counts\n",
    "df_all['host_response_rate'].value_counts()"
   ]
  },
  {
   "cell_type": "markdown",
   "metadata": {},
   "source": [
    "#### `property_type`"
   ]
  },
  {
   "cell_type": "code",
   "execution_count": 25,
   "metadata": {},
   "outputs": [
    {
     "data": {
      "text/plain": [
       "Apartment             48840\n",
       "House                 16503\n",
       "Condominium            2653\n",
       "Townhouse              1685\n",
       "Loft                   1241\n",
       "Other                   607\n",
       "Guesthouse              498\n",
       "Bed & Breakfast         461\n",
       "Bungalow                366\n",
       "Villa                   179\n",
       "Dorm                    142\n",
       "Guest suite             123\n",
       "Camper/RV                94\n",
       "Timeshare                76\n",
       "In-law                   71\n",
       "Cabin                    71\n",
       "Hostel                   70\n",
       "Boutique hotel           69\n",
       "Boat                     65\n",
       "Serviced apartment       21\n",
       "Tent                     18\n",
       "Castle                   13\n",
       "Vacation home            11\n",
       "Yurt                      9\n",
       "Hut                       8\n",
       "Treehouse                 7\n",
       "Chalet                    6\n",
       "Earth House               4\n",
       "Tipi                      3\n",
       "Cave                      2\n",
       "Train                     2\n",
       "Parking Space             1\n",
       "Lighthouse                1\n",
       "Island                    1\n",
       "Casa particular           1\n",
       "Name: property_type, dtype: int64"
      ]
     },
     "execution_count": 25,
     "metadata": {},
     "output_type": "execute_result"
    }
   ],
   "source": [
    "df_all['property_type'].value_counts()"
   ]
  },
  {
   "cell_type": "code",
   "execution_count": 26,
   "metadata": {},
   "outputs": [],
   "source": [
    "#property_type has too many categories with a few listings. Binning them into Apartment, House, and Other.\n",
    "\n",
    "df_all['property_type'].replace({\n",
    "    'Townhouse':'House',\n",
    "    'Guesthouse':'House',\n",
    "    'Bungalow':'House',\n",
    "    'Villa':'House',\n",
    "    'Loft':'Apartment',\n",
    "    'Serviced apartment':'Apartment',\n",
    "    'Earth House':'House',\n",
    "    'Chalet':'House',\n",
    "    'Treehouse':'House',\n",
    "    'Vacation home':'House'\n",
    "}, inplace=True)\n",
    "\n",
    "#merging remaining categories into 'Other'\n",
    "\n",
    "df_all.loc[~df_all.property_type.isin(['House','Apartment']), 'property_type'] = 'Other'"
   ]
  },
  {
   "cell_type": "code",
   "execution_count": 27,
   "metadata": {},
   "outputs": [
    {
     "data": {
      "text/plain": [
       "Apartment    50102\n",
       "House        19259\n",
       "Other         4561\n",
       "Name: property_type, dtype: int64"
      ]
     },
     "execution_count": 27,
     "metadata": {},
     "output_type": "execute_result"
    }
   ],
   "source": [
    "df_all['property_type'].value_counts()"
   ]
  },
  {
   "cell_type": "markdown",
   "metadata": {},
   "source": [
    "#### `bed_type`"
   ]
  },
  {
   "cell_type": "code",
   "execution_count": 28,
   "metadata": {},
   "outputs": [
    {
     "data": {
      "text/plain": [
       "Real Bed         71846\n",
       "Futon              750\n",
       "Pull-out Sofa      582\n",
       "Airbed             477\n",
       "Couch              267\n",
       "Name: bed_type, dtype: int64"
      ]
     },
     "execution_count": 28,
     "metadata": {},
     "output_type": "execute_result"
    }
   ],
   "source": [
    "df_all['bed_type'].value_counts()"
   ]
  },
  {
   "cell_type": "code",
   "execution_count": 29,
   "metadata": {},
   "outputs": [
    {
     "name": "stdout",
     "output_type": "stream",
     "text": [
      "proportion of real bed: 97.1916344254755%\n"
     ]
    }
   ],
   "source": [
    "print(f\"proportion of real bed: {sum(df_all.bed_type=='Real Bed')/len(df_all)*100}%\")"
   ]
  },
  {
   "cell_type": "code",
   "execution_count": 30,
   "metadata": {},
   "outputs": [],
   "source": [
    "# As most of the listings have same bed type, it won't be advantageous to have this feature. Hence, dropping it.\n",
    "\n",
    "del df_all['bed_type']"
   ]
  },
  {
   "cell_type": "markdown",
   "metadata": {},
   "source": [
    "#### `bathrooms`, `bedrooms`, & `beds`"
   ]
  },
  {
   "cell_type": "code",
   "execution_count": 31,
   "metadata": {},
   "outputs": [],
   "source": [
    "# Imputing nan's with median to avoid fractions.\n",
    "\n",
    "for col in ['bathrooms','bedrooms','beds']:\n",
    "    df_all[col].fillna(df_all[col].median(), inplace=True)"
   ]
  },
  {
   "cell_type": "markdown",
   "metadata": {},
   "source": [
    "#### `cancellation_policy`"
   ]
  },
  {
   "cell_type": "code",
   "execution_count": 32,
   "metadata": {},
   "outputs": [
    {
     "data": {
      "text/plain": [
       "strict             32295\n",
       "flexible           22484\n",
       "moderate           19014\n",
       "super_strict_30      112\n",
       "super_strict_60       17\n",
       "Name: cancellation_policy, dtype: int64"
      ]
     },
     "execution_count": 32,
     "metadata": {},
     "output_type": "execute_result"
    }
   ],
   "source": [
    "df_all['cancellation_policy'].value_counts()"
   ]
  },
  {
   "cell_type": "code",
   "execution_count": 33,
   "metadata": {},
   "outputs": [],
   "source": [
    "#merging super_strict columns into the strict ones as they do not constitute much of the listings.\n",
    "\n",
    "df_all['cancellation_policy'].replace({\n",
    "    'super_strict_30' : 'strict',\n",
    "    'super_strict_60' : 'strict'\n",
    "}, inplace=True)"
   ]
  },
  {
   "cell_type": "markdown",
   "metadata": {},
   "source": [
    "#### `amenities`"
   ]
  },
  {
   "cell_type": "code",
   "execution_count": 34,
   "metadata": {},
   "outputs": [
    {
     "data": {
      "text/plain": [
       "array(['{\"Wireless Internet\",\"Air conditioning\",Kitchen,Heating,\"Family/kid friendly\",Essentials,\"Hair dryer\",Iron,\"translation missing: en.hosting_amenity_50\"}'],\n",
       "      dtype=object)"
      ]
     },
     "execution_count": 34,
     "metadata": {},
     "output_type": "execute_result"
    }
   ],
   "source": [
    "#sneak-peak into amenities\n",
    "df_all['amenities'][:1].values"
   ]
  },
  {
   "cell_type": "code",
   "execution_count": 35,
   "metadata": {
    "scrolled": true
   },
   "outputs": [
    {
     "data": {
      "text/plain": [
       "{'',\n",
       " '24-hour check-in',\n",
       " 'Accessible-height bed',\n",
       " 'Accessible-height toilet',\n",
       " 'Air conditioning',\n",
       " 'Air purifier',\n",
       " 'BBQ grill',\n",
       " 'Baby bath',\n",
       " 'Baby monitor',\n",
       " 'Babysitter recommendations',\n",
       " 'Bath towel',\n",
       " 'Bathtub',\n",
       " 'Bathtub with shower chair',\n",
       " 'Beach essentials',\n",
       " 'Beachfront',\n",
       " 'Bed linens',\n",
       " 'Body soap',\n",
       " 'Breakfast',\n",
       " 'Buzzer/wireless intercom',\n",
       " 'Cable TV',\n",
       " 'Carbon monoxide detector',\n",
       " 'Cat(s)',\n",
       " 'Changing table',\n",
       " 'Childrenâ€™s books and toys',\n",
       " 'Childrenâ€™s dinnerware',\n",
       " 'Children’s books and toys',\n",
       " 'Children’s dinnerware',\n",
       " 'Cleaning before checkout',\n",
       " 'Coffee maker',\n",
       " 'Cooking basics',\n",
       " 'Crib',\n",
       " 'Disabled parking spot',\n",
       " 'Dishes and silverware',\n",
       " 'Dishwasher',\n",
       " 'Dog(s)',\n",
       " 'Doorman',\n",
       " 'Doorman Entry',\n",
       " 'Dryer',\n",
       " 'EV charger',\n",
       " 'Elevator',\n",
       " 'Elevator in building',\n",
       " 'Essentials',\n",
       " 'Ethernet connection',\n",
       " 'Extra pillows and blankets',\n",
       " 'Family/kid friendly',\n",
       " 'Fire extinguisher',\n",
       " 'Fireplace guards',\n",
       " 'Firm matress',\n",
       " 'Firm mattress',\n",
       " 'First aid kit',\n",
       " 'Fixed grab bars for shower & toilet',\n",
       " 'Flat',\n",
       " 'Flat smooth pathway to front door',\n",
       " 'Free parking on premises',\n",
       " 'Free parking on street',\n",
       " 'Game console',\n",
       " 'Garden or backyard',\n",
       " 'Grab-rails for shower and toilet',\n",
       " 'Ground floor access',\n",
       " 'Gym',\n",
       " 'Hair dryer',\n",
       " 'Hand or paper towel',\n",
       " 'Hand soap',\n",
       " 'Handheld shower head',\n",
       " 'Hangers',\n",
       " 'Heating',\n",
       " 'High chair',\n",
       " 'Host greets you',\n",
       " 'Hot tub',\n",
       " 'Hot water',\n",
       " 'Hot water kettle',\n",
       " 'Indoor fireplace',\n",
       " 'Internet',\n",
       " 'Iron',\n",
       " 'Keypad',\n",
       " 'Kitchen',\n",
       " 'Lake access',\n",
       " 'Laptop friendly workspace',\n",
       " 'Lock on bedroom door',\n",
       " 'Lockbox',\n",
       " 'Long term stays allowed',\n",
       " 'Luggage dropoff allowed',\n",
       " 'Microwave',\n",
       " 'Other',\n",
       " 'Other pet(s)',\n",
       " 'Outlet covers',\n",
       " 'Oven',\n",
       " 'Pack â€™n Play/travel crib',\n",
       " 'Pack ’n Play/travel crib',\n",
       " 'Paid parking off premises',\n",
       " 'Path to entrance lit at night',\n",
       " 'Patio or balcony',\n",
       " 'Pets allowed',\n",
       " 'Pets live on this property',\n",
       " 'Pocket wifi',\n",
       " 'Pool',\n",
       " 'Private bathroom',\n",
       " 'Private entrance',\n",
       " 'Private living room',\n",
       " 'Refrigerator',\n",
       " 'Roll-in shower with chair',\n",
       " 'Room-darkening shades',\n",
       " 'Safety card',\n",
       " 'Self Check-In',\n",
       " 'Shampoo',\n",
       " 'Single level home',\n",
       " 'Ski in/Ski out',\n",
       " 'Smart lock',\n",
       " 'Smartlock',\n",
       " 'Smoke detector',\n",
       " 'Smoking allowed',\n",
       " 'Stair gates',\n",
       " 'Step-free access',\n",
       " 'Stove',\n",
       " 'Suitable for events',\n",
       " 'TV',\n",
       " 'Table corner guards',\n",
       " 'Toilet paper',\n",
       " 'Washer',\n",
       " 'Washer / Dryer',\n",
       " 'Waterfront',\n",
       " 'Well-lit path to entrance',\n",
       " 'Wheelchair accessible',\n",
       " 'Wide clearance to bed',\n",
       " 'Wide clearance to shower & toilet',\n",
       " 'Wide clearance to shower and toilet',\n",
       " 'Wide doorway',\n",
       " 'Wide entryway',\n",
       " 'Wide hallway clearance',\n",
       " 'Window guards',\n",
       " 'Wireless Internet',\n",
       " 'smooth pathway to front door',\n",
       " 'translation missing: en.hosting_amenity_49',\n",
       " 'translation missing: en.hosting_amenity_50'}"
      ]
     },
     "execution_count": 35,
     "metadata": {},
     "output_type": "execute_result"
    }
   ],
   "source": [
    "#Creating a set of all possible amenities\n",
    "\n",
    "amenities_list = list(df_all['amenities'])\n",
    "amenities_list_str = \" \".join(amenities_list)\n",
    "amenities_list_str = amenities_list_str.replace('{','')\n",
    "amenities_list_str = amenities_list_str.replace('}',',')\n",
    "amenities_list_str = amenities_list_str.replace('\"','')\n",
    "\n",
    "amenities_set = [x.strip() for x in amenities_list_str.split(',')]\n",
    "amenities_set = set(amenities_set)\n",
    "amenities_set"
   ]
  },
  {
   "cell_type": "code",
   "execution_count": 36,
   "metadata": {},
   "outputs": [
    {
     "name": "stderr",
     "output_type": "stream",
     "text": [
      "C:\\Users\\yasar\\anaconda3\\lib\\site-packages\\pandas\\core\\strings.py:2001: UserWarning: This pattern has match groups. To actually get the groups, use str.extract.\n",
      "  return func(self, *args, **kwargs)\n"
     ]
    }
   ],
   "source": [
    "# Converting useful amenities into features that might have an effect on Price.\n",
    "\n",
    "df_all.loc[df_all['amenities'].str.contains('24-hour check-in'), 'check_in_24h'] = 1\n",
    "df_all.loc[df_all['amenities'].str.contains('Air conditioning'), 'air_conditioning'] = 1\n",
    "df_all.loc[df_all['amenities'].str.contains('Air purifier|Game console|Buzzer/wireless intercom|Wireless Internet|Room-darkening shades'), 'high_end_electronics'] = 1\n",
    "df_all.loc[df_all['amenities'].str.contains('BBQ grill|Stove|Cooking basics|Microwave|Oven|Refrigerator'), 'cooking_basics'] = 1\n",
    "df_all.loc[df_all['amenities'].str.contains('Patio or balcony'), 'balcony'] = 1\n",
    "df_all.loc[df_all['amenities'].str.contains('Beach essentials|Beach view|Beachfront|Lake access|Ski-in/Ski-out|Waterfront'), 'nature_and_views'] = 1\n",
    "df_all.loc[df_all['amenities'].str.contains('Private bathroom|Private entrance|Private living room|Window guards'), 'privacy'] = 1\n",
    "df_all.loc[df_all['amenities'].str.contains('Breakfast'), 'breakfast'] = 1\n",
    "df_all.loc[df_all['amenities'].str.contains('Wide clearance to bed|Wide clearance to shower & toilet|Wide clearance to shower and toilet|Wide doorway|Wide entryway|Wide hallway clearance'), 'spacious_place'] = 1\n",
    "df_all.loc[df_all['amenities'].str.contains('Bath towel|Bathtub|Bathtub with shower chair|Body soap|Roll-in shower with chair'), 'bath_accesories'] = 1\n",
    "df_all.loc[df_all['amenities'].str.contains('Coffee maker|Cable TV|EV charger|Ethernet connection|Hair dryer|Heating|Internet|Laptop friendly workspace|Pocket wifi|TV'), 'essential_electronics'] = 1\n",
    "df_all.loc[df_all['amenities'].str.contains('Carbon monoxide detector|Smoke detector|Fire extinguisher|Lock on bedroom door|Lockbox|Safety card|Smart lock|Smartlock|Stair gates'), 'security'] = 1\n",
    "df_all.loc[df_all['amenities'].str.contains('Dishwasher|Washer / Dryer|Washer'), 'white_goods'] = 1\n",
    "df_all.loc[df_all['amenities'].str.contains('Elevator|Elevator in building'), 'elevator'] = 1\n",
    "df_all.loc[df_all['amenities'].str.contains('Children’s dinnerware|Children’s books and toys|Family/kid friendly|Baby bath|Baby monitor|Babysitter recommendations'), 'child_friendly'] = 1\n",
    "df_all.loc[df_all['amenities'].str.contains('parking|Gym|Paid parking off premises|Path to entrance lit at night|Luggage dropoff allowed'), 'facilities'] = 1\n",
    "df_all.loc[df_all['amenities'].str.contains('Garden|Outdoor|Sun loungers|Terrace'), 'outdoor_space'] = 1\n",
    "df_all.loc[df_all['amenities'].str.contains('Host greets you'), 'host_greeting'] = 1\n",
    "df_all.loc[df_all['amenities'].str.contains('Hot tub|Jetted tub|hot tub|Sauna|Pool|pool'), 'hot_tub_sauna_or_pool'] = 1\n",
    "df_all.loc[df_all['amenities'].str.contains('Long term stays allowed'), 'long_term_stays'] = 1\n",
    "df_all.loc[df_all['amenities'].str.contains('Pets|pet|Cat(s)|Dog(s)|Pets allowed|Pets live on this property'), 'pets_allowed'] = 1\n",
    "df_all.loc[df_all['amenities'].str.contains('Self check-in'), 'self_check_in'] = 1\n",
    "df_all.loc[df_all['amenities'].str.contains('Smoking allowed'), 'smoking_allowed'] = 1\n",
    "df_all.loc[df_all['amenities'].str.contains('Step-free access|Wheelchair|Accessible'), 'accessible'] = 1\n",
    "df_all.loc[df_all['amenities'].str.contains('Suitable for events'), 'event_suitable'] = 1"
   ]
  },
  {
   "cell_type": "markdown",
   "metadata": {},
   "source": [
    "In order to reduce the no. of features, Amenities that add relatively little information or having fewer than 10% of listings will be removed."
   ]
  },
  {
   "cell_type": "code",
   "execution_count": 37,
   "metadata": {},
   "outputs": [],
   "source": [
    "#replacing nulls with 0 in the above created columns.\n",
    "cols_to_replace_nulls = df_all.iloc[:,29:].columns\n",
    "df_all[cols_to_replace_nulls] = df_all[cols_to_replace_nulls].fillna(0)"
   ]
  },
  {
   "cell_type": "code",
   "execution_count": 38,
   "metadata": {},
   "outputs": [
    {
     "name": "stdout",
     "output_type": "stream",
     "text": [
      "['cooking_basics', 'balcony', 'nature_and_views', 'spacious_place', 'bath_accesories', 'outdoor_space', 'host_greeting', 'long_term_stays', 'self_check_in', 'smoking_allowed', 'accessible', 'event_suitable']\n"
     ]
    }
   ],
   "source": [
    "#Lists the amenities that have categories fewer than 10% of listings.\n",
    "fewer_amenities=[]\n",
    "for col in df_all.iloc[:,29:].columns:\n",
    "    if df_all[col].sum() < len(df_all)/10:\n",
    "        fewer_amenities.append(col)\n",
    "print(fewer_amenities)"
   ]
  },
  {
   "cell_type": "code",
   "execution_count": 39,
   "metadata": {},
   "outputs": [],
   "source": [
    "#Dropping infrequent amenity features\n",
    "df_all.drop(fewer_amenities, axis=1, inplace=True)\n",
    "\n",
    "#Dropping the original amenity feature\n",
    "df_all.drop('amenities',axis=1, inplace=True)"
   ]
  },
  {
   "cell_type": "markdown",
   "metadata": {},
   "source": [
    "#### Converting the `host_since`,`first_review`, and `last_review` to appropriate Dtype"
   ]
  },
  {
   "cell_type": "code",
   "execution_count": 40,
   "metadata": {},
   "outputs": [],
   "source": [
    "#Since host_since, first_review, last_review are date objects, converted them into pandas datetime64 ojbects\n",
    "df_all['host_since'] = pd.to_datetime(df_all['host_since'])\n",
    "df_all['first_review'] = pd.to_datetime(df_all['first_review'])\n",
    "df_all['last_review'] = pd.to_datetime(df_all['last_review'])"
   ]
  },
  {
   "cell_type": "code",
   "execution_count": 41,
   "metadata": {},
   "outputs": [],
   "source": [
    "from datetime import datetime"
   ]
  },
  {
   "cell_type": "code",
   "execution_count": 42,
   "metadata": {},
   "outputs": [
    {
     "name": "stdout",
     "output_type": "stream",
     "text": [
      "Mean days as host: 2309.0\n",
      "Median days as host: 2240.0\n"
     ]
    }
   ],
   "source": [
    "#Calculating the active days of a host since the time they enlisted.\n",
    "df_all['host_active_days'] = (datetime(2020,11,15) - df_all['host_since']).astype('timedelta64[D]')\n",
    "\n",
    "# Replacing null values with the median\n",
    "df_all['host_active_days'].fillna(df_all['host_active_days'].median(), inplace=True)\n",
    "\n",
    "# Printing mean and median\n",
    "print(\"Mean days as host:\", round(df_all['host_active_days'].mean(),0))\n",
    "print(\"Median days as host:\", df_all['host_active_days'].median())"
   ]
  },
  {
   "cell_type": "markdown",
   "metadata": {},
   "source": [
    "#### Creating `time_since_first_review` column"
   ]
  },
  {
   "cell_type": "code",
   "execution_count": 43,
   "metadata": {},
   "outputs": [],
   "source": [
    "#Calculating the time period in days b/w the last_review and the first_review\n",
    "df_all['time_since_first_review'] = (df_all['last_review'] - df_all['first_review']).astype('timedelta64[D]')"
   ]
  },
  {
   "cell_type": "code",
   "execution_count": 44,
   "metadata": {},
   "outputs": [
    {
     "data": {
      "text/plain": [
       "<AxesSubplot:>"
      ]
     },
     "execution_count": 44,
     "metadata": {},
     "output_type": "execute_result"
    },
    {
     "data": {
      "image/png": "[encoded data removed]",
      "text/plain": [
       "<Figure size 1080x432 with 1 Axes>"
      ]
     },
     "metadata": {
      "needs_background": "light"
     },
     "output_type": "display_data"
    }
   ],
   "source": [
    "# Distribution of the number of days b/w last & first reviews\n",
    "df_all['time_since_first_review'].hist(figsize=(15,6),bins=20,edgecolor='black', linewidth=1.2)"
   ]
  },
  {
   "cell_type": "markdown",
   "metadata": {},
   "source": [
    "The above histogram shows that most of the listings have *new reviews or have joined recently*. Vast majority of the distribution has joined/got reveiws with in the past two years.  "
   ]
  },
  {
   "cell_type": "code",
   "execution_count": 46,
   "metadata": {},
   "outputs": [],
   "source": [
    "df_all['time_since_first_review'] = pd.cut(df_all['time_since_first_review'],\n",
    "                                     bins=[0, 182, 365, 730, 1460, max(df_all.time_since_first_review)],\n",
    "                                     labels=['0-6 months','6-12 months','1-2 years','2-3 years','4+ years'],\n",
    "                                     include_lowest=True)"
   ]
  },
  {
   "cell_type": "code",
   "execution_count": 49,
   "metadata": {},
   "outputs": [
    {
     "data": {
      "text/plain": [
       "0-6 months     24585\n",
       "no reviews     15822\n",
       "1-2 years      12188\n",
       "6-12 months     9647\n",
       "2-3 years       8642\n",
       "4+ years        3038\n",
       "Name: time_since_first_review, dtype: int64"
      ]
     },
     "execution_count": 49,
     "metadata": {},
     "output_type": "execute_result"
    }
   ],
   "source": [
    "df_all['time_since_first_review'].value_counts()"
   ]
  },
  {
   "cell_type": "code",
   "execution_count": 48,
   "metadata": {},
   "outputs": [],
   "source": [
    "df_all['time_since_first_review'] = df_all['time_since_first_review'].astype('str')\n",
    "df_all['time_since_first_review'].replace('nan','no reviews',inplace=True)"
   ]
  },
  {
   "cell_type": "markdown",
   "metadata": {},
   "source": [
    "#### `review_scores_rating`"
   ]
  },
  {
   "cell_type": "code",
   "execution_count": 50,
   "metadata": {},
   "outputs": [],
   "source": [
    "df_all['review_scores_rating'] = pd.cut(df_all['review_scores_rating'],\n",
    "                                     bins = [0,80,95,100],\n",
    "                                     labels = ['0-79/100','80-94/100','95-100/100'],\n",
    "                                     include_lowest=True)"
   ]
  },
  {
   "cell_type": "code",
   "execution_count": 51,
   "metadata": {},
   "outputs": [
    {
     "data": {
      "text/plain": [
       "95-100/100    31316\n",
       "80-94/100     22060\n",
       "no reviews    16675\n",
       "0-79/100       3871\n",
       "Name: review_scores_rating, dtype: int64"
      ]
     },
     "execution_count": 51,
     "metadata": {},
     "output_type": "execute_result"
    }
   ],
   "source": [
    "#converting the column to string\n",
    "df_all['review_scores_rating'] = df_all['review_scores_rating'].astype('str')\n",
    "\n",
    "#Replace null values with 'unknown' category\n",
    "df_all['review_scores_rating'].replace('nan','no reviews',inplace=True)\n",
    "\n",
    "#category counts\n",
    "df_all['review_scores_rating'].value_counts()"
   ]
  },
  {
   "cell_type": "code",
   "execution_count": 52,
   "metadata": {},
   "outputs": [],
   "source": [
    "# Replacing columns with f/t with 0/1\n",
    "df_all.replace({'f': 0, 't': 1}, inplace=True)"
   ]
  },
  {
   "cell_type": "code",
   "execution_count": 53,
   "metadata": {},
   "outputs": [
    {
     "data": {
      "text/plain": [
       "Index(['property_type', 'room_type', 'cancellation_policy', 'city',\n",
       "       'description', 'host_response_rate', 'name', 'neighbourhood',\n",
       "       'review_scores_rating', 'thumbnail_url', 'zipcode', 'data',\n",
       "       'time_since_first_review'],\n",
       "      dtype='object')"
      ]
     },
     "execution_count": 53,
     "metadata": {},
     "output_type": "execute_result"
    }
   ],
   "source": [
    "df_all.select_dtypes('object').columns"
   ]
  },
  {
   "cell_type": "code",
   "execution_count": 54,
   "metadata": {},
   "outputs": [],
   "source": [
    "# dropping few host related column which contribute none towards price prediction.\n",
    "\n",
    "cols_to_drop = ['thumbnail_url','name']\n",
    "df_all = df_all.drop(cols_to_drop, axis=1)"
   ]
  },
  {
   "cell_type": "code",
   "execution_count": 57,
   "metadata": {},
   "outputs": [
    {
     "name": "stdout",
     "output_type": "stream",
     "text": [
      "<class 'pandas.core.frame.DataFrame'>\n",
      "Int64Index: 73922 entries, 0 to 24110\n",
      "Data columns (total 41 columns):\n",
      " #   Column                   Non-Null Count  Dtype         \n",
      "---  ------                   --------------  -----         \n",
      " 0   id                       73922 non-null  int64         \n",
      " 1   property_type            73922 non-null  object        \n",
      " 2   room_type                73922 non-null  object        \n",
      " 3   accommodates             73922 non-null  int64         \n",
      " 4   bathrooms                73922 non-null  float64       \n",
      " 5   cancellation_policy      73922 non-null  object        \n",
      " 6   cleaning_fee             73922 non-null  bool          \n",
      " 7   city                     73922 non-null  object        \n",
      " 8   description              73921 non-null  object        \n",
      " 9   first_review             58100 non-null  datetime64[ns]\n",
      " 10  host_has_profile_pic     73922 non-null  int64         \n",
      " 11  host_identity_verified   73922 non-null  int64         \n",
      " 12  host_response_rate       73922 non-null  object        \n",
      " 13  host_since               73922 non-null  datetime64[ns]\n",
      " 14  instant_bookable         73922 non-null  int64         \n",
      " 15  last_review              58131 non-null  datetime64[ns]\n",
      " 16  latitude                 73922 non-null  float64       \n",
      " 17  longitude                73922 non-null  float64       \n",
      " 18  neighbourhood            67053 non-null  object        \n",
      " 19  number_of_reviews        73922 non-null  int64         \n",
      " 20  review_scores_rating     73922 non-null  object        \n",
      " 21  zipcode                  72958 non-null  object        \n",
      " 22  bedrooms                 73922 non-null  float64       \n",
      " 23  beds                     73922 non-null  float64       \n",
      " 24  log_price                49872 non-null  float64       \n",
      " 25  data                     73922 non-null  object        \n",
      " 26  check_in_24h             73922 non-null  float64       \n",
      " 27  air_conditioning         73922 non-null  float64       \n",
      " 28  high_end_electronics     73922 non-null  float64       \n",
      " 29  privacy                  73922 non-null  float64       \n",
      " 30  breakfast                73922 non-null  float64       \n",
      " 31  essential_electronics    73922 non-null  float64       \n",
      " 32  security                 73922 non-null  float64       \n",
      " 33  white_goods              73922 non-null  float64       \n",
      " 34  elevator                 73922 non-null  float64       \n",
      " 35  child_friendly           73922 non-null  float64       \n",
      " 36  facilities               73922 non-null  float64       \n",
      " 37  hot_tub_sauna_or_pool    73922 non-null  float64       \n",
      " 38  pets_allowed             73922 non-null  float64       \n",
      " 39  host_active_days         73922 non-null  float64       \n",
      " 40  time_since_first_review  73922 non-null  object        \n",
      "dtypes: bool(1), datetime64[ns](3), float64(20), int64(6), object(11)\n",
      "memory usage: 23.2+ MB\n"
     ]
    }
   ],
   "source": [
    "df_all.info()"
   ]
  },
  {
   "cell_type": "code",
   "execution_count": 56,
   "metadata": {},
   "outputs": [],
   "source": [
    "cleaned_data = df_all.to_csv('cleaned_data.csv', index=False,header=True)"
   ]
  },
  {
   "cell_type": "code",
   "execution_count": null,
   "metadata": {},
   "outputs": [],
   "source": []
  }
 ],
 "metadata": {
  "kernelspec": {
   "display_name": "Python 3",
   "language": "python",
   "name": "python3"
  },
  "language_info": {
   "codemirror_mode": {
    "name": "ipython",
    "version": 3
   },
   "file_extension": ".py",
   "mimetype": "text/x-python",
   "name": "python",
   "nbconvert_exporter": "python",
   "pygments_lexer": "ipython3",
   "version": "3.8.3"
  }
 },
 "nbformat": 4,
 "nbformat_minor": 4
}
