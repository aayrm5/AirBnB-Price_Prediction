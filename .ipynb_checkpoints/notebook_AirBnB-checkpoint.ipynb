{
 "cells": [
  {
   "cell_type": "code",
   "execution_count": 2,
   "metadata": {},
   "outputs": [],
   "source": [
    "#importing required packages.\n",
    "import numpy as np\n",
    "import pandas as pd\n",
    "import matplotlib.pyplot as plt\n",
    "%matplotlib inline"
   ]
  },
  {
   "cell_type": "code",
   "execution_count": 3,
   "metadata": {},
   "outputs": [],
   "source": [
    "pd.set_option('display.max_columns',50) #display columns upto 50."
   ]
  },
  {
   "cell_type": "code",
   "execution_count": 4,
   "metadata": {},
   "outputs": [],
   "source": [
    "#reading the train.csv file as a pandas DataFrame\n",
    "train_df = pd.read_csv(\"train.csv\")"
   ]
  },
  {
   "cell_type": "code",
   "execution_count": 107,
   "metadata": {},
   "outputs": [
    {
     "data": {
      "text/html": [
       "<div>\n",
       "<style scoped>\n",
       "    .dataframe tbody tr th:only-of-type {\n",
       "        vertical-align: middle;\n",
       "    }\n",
       "\n",
       "    .dataframe tbody tr th {\n",
       "        vertical-align: top;\n",
       "    }\n",
       "\n",
       "    .dataframe thead th {\n",
       "        text-align: right;\n",
       "    }\n",
       "</style>\n",
       "<table border=\"1\" class=\"dataframe\">\n",
       "  <thead>\n",
       "    <tr style=\"text-align: right;\">\n",
       "      <th></th>\n",
       "      <th>id</th>\n",
       "      <th>property_type</th>\n",
       "      <th>room_type</th>\n",
       "      <th>amenities</th>\n",
       "      <th>accommodates</th>\n",
       "      <th>bathrooms</th>\n",
       "      <th>bed_type</th>\n",
       "      <th>cancellation_policy</th>\n",
       "      <th>cleaning_fee</th>\n",
       "      <th>city</th>\n",
       "      <th>description</th>\n",
       "      <th>first_review</th>\n",
       "      <th>host_has_profile_pic</th>\n",
       "      <th>host_identity_verified</th>\n",
       "      <th>host_response_rate</th>\n",
       "      <th>host_since</th>\n",
       "      <th>instant_bookable</th>\n",
       "      <th>last_review</th>\n",
       "      <th>latitude</th>\n",
       "      <th>longitude</th>\n",
       "      <th>name</th>\n",
       "      <th>neighbourhood</th>\n",
       "      <th>number_of_reviews</th>\n",
       "      <th>review_scores_rating</th>\n",
       "      <th>thumbnail_url</th>\n",
       "      <th>zipcode</th>\n",
       "      <th>bedrooms</th>\n",
       "      <th>beds</th>\n",
       "      <th>log_price</th>\n",
       "      <th>data</th>\n",
       "    </tr>\n",
       "  </thead>\n",
       "  <tbody>\n",
       "    <tr>\n",
       "      <th>0</th>\n",
       "      <td>6901257</td>\n",
       "      <td>Apartment</td>\n",
       "      <td>Entire home/apt</td>\n",
       "      <td>{\"Wireless Internet\",\"Air conditioning\",Kitche...</td>\n",
       "      <td>3</td>\n",
       "      <td>1.0</td>\n",
       "      <td>Real Bed</td>\n",
       "      <td>strict</td>\n",
       "      <td>True</td>\n",
       "      <td>NYC</td>\n",
       "      <td>Beautiful, sunlit brownstone 1-bedroom in the ...</td>\n",
       "      <td>6/18/2016</td>\n",
       "      <td>t</td>\n",
       "      <td>t</td>\n",
       "      <td>NaN</td>\n",
       "      <td>3/26/2012</td>\n",
       "      <td>f</td>\n",
       "      <td>7/18/2016</td>\n",
       "      <td>40.696524</td>\n",
       "      <td>-73.991617</td>\n",
       "      <td>Beautiful brownstone 1-bedroom</td>\n",
       "      <td>Brooklyn Heights</td>\n",
       "      <td>2</td>\n",
       "      <td>100.0</td>\n",
       "      <td>https://a0.muscache.com/im/pictures/6d7cbbf7-c...</td>\n",
       "      <td>11201</td>\n",
       "      <td>1.0</td>\n",
       "      <td>1.0</td>\n",
       "      <td>5.010635</td>\n",
       "      <td>train</td>\n",
       "    </tr>\n",
       "    <tr>\n",
       "      <th>1</th>\n",
       "      <td>6304928</td>\n",
       "      <td>Apartment</td>\n",
       "      <td>Entire home/apt</td>\n",
       "      <td>{\"Wireless Internet\",\"Air conditioning\",Kitche...</td>\n",
       "      <td>7</td>\n",
       "      <td>1.0</td>\n",
       "      <td>Real Bed</td>\n",
       "      <td>strict</td>\n",
       "      <td>True</td>\n",
       "      <td>NYC</td>\n",
       "      <td>Enjoy travelling during your stay in Manhattan...</td>\n",
       "      <td>08-05-2017</td>\n",
       "      <td>t</td>\n",
       "      <td>f</td>\n",
       "      <td>100%</td>\n",
       "      <td>6/19/2017</td>\n",
       "      <td>t</td>\n",
       "      <td>9/23/2017</td>\n",
       "      <td>40.766115</td>\n",
       "      <td>-73.989040</td>\n",
       "      <td>Superb 3BR Apt Located Near Times Square</td>\n",
       "      <td>Hell's Kitchen</td>\n",
       "      <td>6</td>\n",
       "      <td>93.0</td>\n",
       "      <td>https://a0.muscache.com/im/pictures/348a55fe-4...</td>\n",
       "      <td>10019</td>\n",
       "      <td>3.0</td>\n",
       "      <td>3.0</td>\n",
       "      <td>5.129899</td>\n",
       "      <td>train</td>\n",
       "    </tr>\n",
       "  </tbody>\n",
       "</table>\n",
       "</div>"
      ],
      "text/plain": [
       "        id property_type        room_type  \\\n",
       "0  6901257     Apartment  Entire home/apt   \n",
       "1  6304928     Apartment  Entire home/apt   \n",
       "\n",
       "                                           amenities  accommodates  bathrooms  \\\n",
       "0  {\"Wireless Internet\",\"Air conditioning\",Kitche...             3        1.0   \n",
       "1  {\"Wireless Internet\",\"Air conditioning\",Kitche...             7        1.0   \n",
       "\n",
       "   bed_type cancellation_policy  cleaning_fee city  \\\n",
       "0  Real Bed              strict          True  NYC   \n",
       "1  Real Bed              strict          True  NYC   \n",
       "\n",
       "                                         description first_review  \\\n",
       "0  Beautiful, sunlit brownstone 1-bedroom in the ...    6/18/2016   \n",
       "1  Enjoy travelling during your stay in Manhattan...   08-05-2017   \n",
       "\n",
       "  host_has_profile_pic host_identity_verified host_response_rate host_since  \\\n",
       "0                    t                      t                NaN  3/26/2012   \n",
       "1                    t                      f               100%  6/19/2017   \n",
       "\n",
       "  instant_bookable last_review   latitude  longitude  \\\n",
       "0                f   7/18/2016  40.696524 -73.991617   \n",
       "1                t   9/23/2017  40.766115 -73.989040   \n",
       "\n",
       "                                       name     neighbourhood  \\\n",
       "0            Beautiful brownstone 1-bedroom  Brooklyn Heights   \n",
       "1  Superb 3BR Apt Located Near Times Square    Hell's Kitchen   \n",
       "\n",
       "   number_of_reviews  review_scores_rating  \\\n",
       "0                  2                 100.0   \n",
       "1                  6                  93.0   \n",
       "\n",
       "                                       thumbnail_url zipcode  bedrooms  beds  \\\n",
       "0  https://a0.muscache.com/im/pictures/6d7cbbf7-c...   11201       1.0   1.0   \n",
       "1  https://a0.muscache.com/im/pictures/348a55fe-4...   10019       3.0   3.0   \n",
       "\n",
       "   log_price   data  \n",
       "0   5.010635  train  \n",
       "1   5.129899  train  "
      ]
     },
     "execution_count": 107,
     "metadata": {},
     "output_type": "execute_result"
    }
   ],
   "source": [
    "train_df.head(2)"
   ]
  },
  {
   "cell_type": "code",
   "execution_count": 6,
   "metadata": {},
   "outputs": [
    {
     "data": {
      "text/plain": [
       "Index(['id', 'property_type', 'room_type', 'amenities', 'accommodates',\n",
       "       'bathrooms', 'bed_type', 'cancellation_policy', 'cleaning_fee', 'city',\n",
       "       'description', 'first_review', 'host_has_profile_pic',\n",
       "       'host_identity_verified', 'host_response_rate', 'host_since',\n",
       "       'instant_bookable', 'last_review', 'latitude', 'longitude', 'name',\n",
       "       'neighbourhood', 'number_of_reviews', 'review_scores_rating',\n",
       "       'thumbnail_url', 'zipcode', 'bedrooms', 'beds', 'log_price', ' '],\n",
       "      dtype='object')"
      ]
     },
     "execution_count": 6,
     "metadata": {},
     "output_type": "execute_result"
    }
   ],
   "source": [
    "#List of features in the given data.\n",
    "train_df.columns"
   ]
  },
  {
   "cell_type": "code",
   "execution_count": 7,
   "metadata": {},
   "outputs": [],
   "source": [
    "# train_df.info()"
   ]
  },
  {
   "cell_type": "code",
   "execution_count": 8,
   "metadata": {},
   "outputs": [],
   "source": [
    "#reading the test.csv file as a pandas DataFrame\n",
    "test_df = pd.read_excel('test.xlsx')"
   ]
  },
  {
   "cell_type": "code",
   "execution_count": 9,
   "metadata": {},
   "outputs": [],
   "source": [
    "# test_df.head()"
   ]
  },
  {
   "cell_type": "code",
   "execution_count": 10,
   "metadata": {},
   "outputs": [],
   "source": [
    "# test_df.info()"
   ]
  },
  {
   "cell_type": "code",
   "execution_count": 11,
   "metadata": {},
   "outputs": [],
   "source": [
    "del train_df[' '] #removing empty column from the train_dataset"
   ]
  },
  {
   "cell_type": "code",
   "execution_count": 12,
   "metadata": {},
   "outputs": [],
   "source": [
    "del test_df[' '] #removing empty column from the test_dataset"
   ]
  },
  {
   "cell_type": "code",
   "execution_count": 13,
   "metadata": {},
   "outputs": [],
   "source": [
    "#creating identifiers in the train, test datasets\n",
    "train_df['data'] = 'train'\n",
    "test_df['data'] = 'test'"
   ]
  },
  {
   "cell_type": "code",
   "execution_count": 14,
   "metadata": {},
   "outputs": [],
   "source": [
    "#Creating an empty target variable in test to hold same number of columns as train.\n",
    "test_df['log_price'] = np.nan"
   ]
  },
  {
   "cell_type": "code",
   "execution_count": 15,
   "metadata": {},
   "outputs": [],
   "source": [
    "#Joining the datasets for combined pre-processing.\n",
    "df_all = pd.concat([train_df,test_df], axis=0)"
   ]
  },
  {
   "cell_type": "markdown",
   "metadata": {},
   "source": [
    "### Cleaning individual columns"
   ]
  },
  {
   "cell_type": "markdown",
   "metadata": {},
   "source": [
    "#### `host_response_rate`"
   ]
  },
  {
   "cell_type": "code",
   "execution_count": 24,
   "metadata": {},
   "outputs": [
    {
     "name": "stdout",
     "output_type": "stream",
     "text": [
      "Null Values: 18299\n"
     ]
    }
   ],
   "source": [
    "print('Null Values:', df_all.host_response_rate.isna().sum())\n",
    "\n",
    "print(f\"Proportion of Null Values: {round(df_all.host_response_rate.isna().sum()/len(df_all)*100,1)}%\")"
   ]
  },
  {
   "cell_type": "code",
   "execution_count": 34,
   "metadata": {},
   "outputs": [],
   "source": [
    "#removing &sign from the column and converting it into numeric object.\n",
    "df_all['host_response_rate'] = df_all['host_response_rate'].str[:-1].astype('float64')"
   ]
  },
  {
   "cell_type": "code",
   "execution_count": 35,
   "metadata": {},
   "outputs": [
    {
     "name": "stdout",
     "output_type": "stream",
     "text": [
      "Mean host response rate: 94.0\n",
      "Median host response rate: 100.0\n",
      "Proportion of 100% host response rates: 77.3%\n"
     ]
    }
   ],
   "source": [
    "print(\"Mean host response rate:\", round(df_all['host_response_rate'].mean(),0))\n",
    "print(\"Median host response rate:\", df_all['host_response_rate'].median())\n",
    "print(f\"Proportion of 100% host response rates: {round(((df_all.host_response_rate == 100.0).sum()/df_all.host_response_rate.count())*100,1)}%\")"
   ]
  },
  {
   "cell_type": "code",
   "execution_count": 36,
   "metadata": {},
   "outputs": [],
   "source": [
    "#as 77% of hosts respond 100%, and about 25% of values being NULL, binning these feature into suitable categories.\n",
    "\n",
    "df_all['host_response_rate'] = pd.cut(df_all['host_response_rate'],\n",
    "                                     bins = [0,50,90,99,100],\n",
    "                                     labels = ['0-49%','50-89%','90-99%','100%'],\n",
    "                                     include_lowest=True)"
   ]
  },
  {
   "cell_type": "code",
   "execution_count": 38,
   "metadata": {},
   "outputs": [
    {
     "data": {
      "text/plain": [
       "unknown    36449\n",
       "100%       29124\n",
       "50-89%      4945\n",
       "90-99%      2169\n",
       "0-49%       1423\n",
       "Name: host_response_rate, dtype: int64"
      ]
     },
     "execution_count": 38,
     "metadata": {},
     "output_type": "execute_result"
    }
   ],
   "source": [
    "#converting the column to string\n",
    "df_all['host_response_rate'] = df_all['host_response_rate'].astype('str')\n",
    "\n",
    "#Replace null values with 'unknown' category\n",
    "df_all['host_response_rate'].replace('nan','unknown',inplace=True)\n",
    "\n",
    "#category counts\n",
    "df_all['host_response_rate'].value_counts()"
   ]
  },
  {
   "cell_type": "markdown",
   "metadata": {},
   "source": [
    "#### `property_type`"
   ]
  },
  {
   "cell_type": "code",
   "execution_count": 39,
   "metadata": {},
   "outputs": [
    {
     "data": {
      "text/plain": [
       "Apartment             49003\n",
       "House                 16511\n",
       "Condominium            2657\n",
       "Townhouse              1692\n",
       "Loft                   1244\n",
       "Other                   607\n",
       "Guesthouse              498\n",
       "Bed & Breakfast         462\n",
       "Bungalow                366\n",
       "Villa                   179\n",
       "Dorm                    142\n",
       "Guest suite             123\n",
       "Camper/RV                94\n",
       "Timeshare                77\n",
       "Cabin                    72\n",
       "In-law                   71\n",
       "Hostel                   70\n",
       "Boutique hotel           69\n",
       "Boat                     65\n",
       "Serviced apartment       21\n",
       "Tent                     18\n",
       "Castle                   13\n",
       "Vacation home            11\n",
       "Yurt                      9\n",
       "Hut                       8\n",
       "Treehouse                 7\n",
       "Chalet                    6\n",
       "Earth House               4\n",
       "Tipi                      3\n",
       "Cave                      2\n",
       "Train                     2\n",
       "Lighthouse                1\n",
       "Island                    1\n",
       "Parking Space             1\n",
       "Casa particular           1\n",
       "Name: property_type, dtype: int64"
      ]
     },
     "execution_count": 39,
     "metadata": {},
     "output_type": "execute_result"
    }
   ],
   "source": [
    "df_all['property_type'].value_counts()"
   ]
  },
  {
   "cell_type": "code",
   "execution_count": 42,
   "metadata": {},
   "outputs": [],
   "source": [
    "#property_type has too many categories with a few listings. Binning them into Apartment, House, and Other.\n",
    "\n",
    "df_all['property_type'].replace({\n",
    "    'Townhouse':'House',\n",
    "    'Guesthouse':'House',\n",
    "    'Bungalow':'House',\n",
    "    'Villa':'House',\n",
    "    'Loft':'Apartment',\n",
    "    'Serviced apartment':'Apartment',\n",
    "    'Earth House':'House',\n",
    "    'Chalet':'House',\n",
    "    'Treehouse':'House',\n",
    "    'Vacation home':'House'\n",
    "}, inplace=True)\n",
    "\n",
    "#merging remaining categories into 'Other'\n",
    "\n",
    "df_all.loc[~df_all.property_type.isin(['House','Apartment']), 'property_type'] = 'Other'"
   ]
  },
  {
   "cell_type": "code",
   "execution_count": 43,
   "metadata": {},
   "outputs": [
    {
     "data": {
      "text/plain": [
       "Apartment    50268\n",
       "House        19274\n",
       "Other         4568\n",
       "Name: property_type, dtype: int64"
      ]
     },
     "execution_count": 43,
     "metadata": {},
     "output_type": "execute_result"
    }
   ],
   "source": [
    "df_all['property_type'].value_counts()"
   ]
  },
  {
   "cell_type": "markdown",
   "metadata": {},
   "source": [
    "#### `bed_type`"
   ]
  },
  {
   "cell_type": "code",
   "execution_count": 44,
   "metadata": {},
   "outputs": [
    {
     "data": {
      "text/plain": [
       "Real Bed         72027\n",
       "Futon              753\n",
       "Pull-out Sofa      585\n",
       "Airbed             477\n",
       "Couch              268\n",
       "Name: bed_type, dtype: int64"
      ]
     },
     "execution_count": 44,
     "metadata": {},
     "output_type": "execute_result"
    }
   ],
   "source": [
    "df_all['bed_type'].value_counts()"
   ]
  },
  {
   "cell_type": "code",
   "execution_count": 48,
   "metadata": {},
   "outputs": [
    {
     "name": "stdout",
     "output_type": "stream",
     "text": [
      "proportion of real bed: 97.1893131831062%\n"
     ]
    }
   ],
   "source": [
    "print(f\"proportion of real bed: {sum(df_all.bed_type=='Real Bed')/len(df_all)*100}%\")"
   ]
  },
  {
   "cell_type": "code",
   "execution_count": 49,
   "metadata": {},
   "outputs": [],
   "source": [
    "# As most of the listings have same bed type, it won't be advantageous to have this feature. Hence, dropping it.\n",
    "\n",
    "del df_all['bed_type']"
   ]
  },
  {
   "cell_type": "markdown",
   "metadata": {},
   "source": [
    "#### `bathrooms`, `bedrooms`, & `beds`"
   ]
  },
  {
   "cell_type": "code",
   "execution_count": 51,
   "metadata": {},
   "outputs": [],
   "source": [
    "# Imputing nan's with median to avoid fractions.\n",
    "\n",
    "for col in ['bathrooms','bedrooms','beds']:\n",
    "    df_all[col].fillna(df_all[col].median(), inplace=True)"
   ]
  },
  {
   "cell_type": "markdown",
   "metadata": {},
   "source": [
    "#### `cancellation_policy`"
   ]
  },
  {
   "cell_type": "code",
   "execution_count": 54,
   "metadata": {},
   "outputs": [
    {
     "data": {
      "text/plain": [
       "strict             32373\n",
       "flexible           22545\n",
       "moderate           19063\n",
       "super_strict_30      112\n",
       "super_strict_60       17\n",
       "Name: cancellation_policy, dtype: int64"
      ]
     },
     "execution_count": 54,
     "metadata": {},
     "output_type": "execute_result"
    }
   ],
   "source": [
    "df_all['cancellation_policy'].value_counts()"
   ]
  },
  {
   "cell_type": "code",
   "execution_count": 55,
   "metadata": {},
   "outputs": [],
   "source": [
    "#merging super_strict columns into the strict ones as they do not constitute much of the listings.\n",
    "\n",
    "df_all['cancellation_policy'].replace({\n",
    "    'super_strict_30' : 'strict',\n",
    "    'super_strict_60' : 'strict'\n",
    "}, inplace=True)"
   ]
  },
  {
   "cell_type": "markdown",
   "metadata": {},
   "source": [
    "#### `amenities`"
   ]
  },
  {
   "cell_type": "code",
   "execution_count": 64,
   "metadata": {},
   "outputs": [
    {
     "data": {
      "text/plain": [
       "array(['{\"Wireless Internet\",\"Air conditioning\",Kitchen,Heating,\"Family/kid friendly\",Essentials,\"Hair dryer\",Iron,\"translation missing: en.hosting_amenity_50\"}'],\n",
       "      dtype=object)"
      ]
     },
     "execution_count": 64,
     "metadata": {},
     "output_type": "execute_result"
    }
   ],
   "source": [
    "#sneak-peak into amenities\n",
    "df_all['amenities'][:1].values"
   ]
  },
  {
   "cell_type": "code",
   "execution_count": 65,
   "metadata": {
    "scrolled": true
   },
   "outputs": [
    {
     "data": {
      "text/plain": [
       "{'',\n",
       " '24-hour check-in',\n",
       " 'Accessible-height bed',\n",
       " 'Accessible-height toilet',\n",
       " 'Air conditioning',\n",
       " 'Air purifier',\n",
       " 'BBQ grill',\n",
       " 'Baby bath',\n",
       " 'Baby monitor',\n",
       " 'Babysitter recommendations',\n",
       " 'Bath towel',\n",
       " 'Bathtub',\n",
       " 'Bathtub with shower chair',\n",
       " 'Beach essentials',\n",
       " 'Beachfront',\n",
       " 'Bed linens',\n",
       " 'Body soap',\n",
       " 'Breakfast',\n",
       " 'Buzzer/wireless intercom',\n",
       " 'Cable TV',\n",
       " 'Carbon monoxide detector',\n",
       " 'Cat(s)',\n",
       " 'Changing table',\n",
       " 'Childrenâ€™s books and toys',\n",
       " 'Childrenâ€™s dinnerware',\n",
       " 'Children’s books and toys',\n",
       " 'Children’s dinnerware',\n",
       " 'Cleaning before checkout',\n",
       " 'Coffee maker',\n",
       " 'Cooking basics',\n",
       " 'Crib',\n",
       " 'Disabled parking spot',\n",
       " 'Dishes and silverware',\n",
       " 'Dishwasher',\n",
       " 'Dog(s)',\n",
       " 'Doorman',\n",
       " 'Doorman Entry',\n",
       " 'Dryer',\n",
       " 'EV charger',\n",
       " 'Elevator',\n",
       " 'Elevator in building',\n",
       " 'Essentials',\n",
       " 'Ethernet connection',\n",
       " 'Extra pillows and blankets',\n",
       " 'Family/kid friendly',\n",
       " 'Fire extinguisher',\n",
       " 'Fireplace guards',\n",
       " 'Firm matress',\n",
       " 'Firm mattress',\n",
       " 'First aid kit',\n",
       " 'Fixed grab bars for shower & toilet',\n",
       " 'Flat',\n",
       " 'Flat smooth pathway to front door',\n",
       " 'Free parking on premises',\n",
       " 'Free parking on street',\n",
       " 'Game console',\n",
       " 'Garden or backyard',\n",
       " 'Grab-rails for shower and toilet',\n",
       " 'Ground floor access',\n",
       " 'Gym',\n",
       " 'Hair dryer',\n",
       " 'Hand or paper towel',\n",
       " 'Hand soap',\n",
       " 'Handheld shower head',\n",
       " 'Hangers',\n",
       " 'Heating',\n",
       " 'High chair',\n",
       " 'Host greets you',\n",
       " 'Hot tub',\n",
       " 'Hot water',\n",
       " 'Hot water kettle',\n",
       " 'Indoor fireplace',\n",
       " 'Internet',\n",
       " 'Iron',\n",
       " 'Keypad',\n",
       " 'Kitchen',\n",
       " 'Lake access',\n",
       " 'Laptop friendly workspace',\n",
       " 'Lock on bedroom door',\n",
       " 'Lockbox',\n",
       " 'Long term stays allowed',\n",
       " 'Luggage dropoff allowed',\n",
       " 'Microwave',\n",
       " 'Other',\n",
       " 'Other pet(s)',\n",
       " 'Outlet covers',\n",
       " 'Oven',\n",
       " 'Pack â€™n Play/travel crib',\n",
       " 'Pack ’n Play/travel crib',\n",
       " 'Paid parking off premises',\n",
       " 'Path to entrance lit at night',\n",
       " 'Patio or balcony',\n",
       " 'Pets allowed',\n",
       " 'Pets live on this property',\n",
       " 'Pocket wifi',\n",
       " 'Pool',\n",
       " 'Private bathroom',\n",
       " 'Private entrance',\n",
       " 'Private living room',\n",
       " 'Refrigerator',\n",
       " 'Roll-in shower with chair',\n",
       " 'Room-darkening shades',\n",
       " 'Safety card',\n",
       " 'Self Check-In',\n",
       " 'Shampoo',\n",
       " 'Single level home',\n",
       " 'Ski in/Ski out',\n",
       " 'Smart lock',\n",
       " 'Smartlock',\n",
       " 'Smoke detector',\n",
       " 'Smoking allowed',\n",
       " 'Stair gates',\n",
       " 'Step-free access',\n",
       " 'Stove',\n",
       " 'Suitable for events',\n",
       " 'TV',\n",
       " 'Table corner guards',\n",
       " 'Toilet paper',\n",
       " 'Washer',\n",
       " 'Washer / Dryer',\n",
       " 'Waterfront',\n",
       " 'Well-lit path to entrance',\n",
       " 'Wheelchair accessible',\n",
       " 'Wide clearance to bed',\n",
       " 'Wide clearance to shower & toilet',\n",
       " 'Wide clearance to shower and toilet',\n",
       " 'Wide doorway',\n",
       " 'Wide entryway',\n",
       " 'Wide hallway clearance',\n",
       " 'Window guards',\n",
       " 'Wireless Internet',\n",
       " 'smooth pathway to front door',\n",
       " 'translation missing: en.hosting_amenity_49',\n",
       " 'translation missing: en.hosting_amenity_50'}"
      ]
     },
     "execution_count": 65,
     "metadata": {},
     "output_type": "execute_result"
    }
   ],
   "source": [
    "#Creating a set of all possible amenities\n",
    "\n",
    "amenities_list = list(df_all['amenities'])\n",
    "amenities_list_str = \" \".join(amenities_list)\n",
    "amenities_list_str = amenities_list_str.replace('{','')\n",
    "amenities_list_str = amenities_list_str.replace('}',',')\n",
    "amenities_list_str = amenities_list_str.replace('\"','')\n",
    "\n",
    "amenities_set = [x.strip() for x in amenities_list_str.split(',')]\n",
    "amenities_set = set(amenities_set)\n",
    "amenities_set"
   ]
  },
  {
   "cell_type": "code",
   "execution_count": 67,
   "metadata": {},
   "outputs": [
    {
     "name": "stderr",
     "output_type": "stream",
     "text": [
      "C:\\Users\\yasar\\anaconda3\\lib\\site-packages\\pandas\\core\\strings.py:2001: UserWarning: This pattern has match groups. To actually get the groups, use str.extract.\n",
      "  return func(self, *args, **kwargs)\n"
     ]
    }
   ],
   "source": [
    "# Converting useful amenities into features that might have an effect on Price.\n",
    "\n",
    "df_all.loc[df_all['amenities'].str.contains('24-hour check-in'), 'check_in_24h'] = 1\n",
    "df_all.loc[df_all['amenities'].str.contains('Air conditioning'), 'air_conditioning'] = 1\n",
    "df_all.loc[df_all['amenities'].str.contains('Air purifier|Game console|Buzzer/wireless intercom|Wireless Internet|Room-darkening shades'), 'high_end_electronics'] = 1\n",
    "df_all.loc[df_all['amenities'].str.contains('BBQ grill|Stove|Cooking basics|Microwave|Oven|Refrigerator'), 'cooking_basics'] = 1\n",
    "df_all.loc[df_all['amenities'].str.contains('Patio or balcony'), 'balcony'] = 1\n",
    "df_all.loc[df_all['amenities'].str.contains('Beach essentials|Beach view|Beachfront|Lake access|Ski-in/Ski-out|Waterfront'), 'nature_and_views'] = 1\n",
    "df_all.loc[df_all['amenities'].str.contains('Private bathroom|Private entrance|Private living room|Window guards'), 'privacy'] = 1\n",
    "df_all.loc[df_all['amenities'].str.contains('Breakfast'), 'breakfast'] = 1\n",
    "df_all.loc[df_all['amenities'].str.contains('Wide clearance to bed|Wide clearance to shower & toilet|Wide clearance to shower and toilet|Wide doorway|Wide entryway|Wide hallway clearance'), 'spacious_place'] = 1\n",
    "df_all.loc[df_all['amenities'].str.contains('Bath towel|Bathtub|Bathtub with shower chair|Body soap|Roll-in shower with chair'), 'bath_accesories'] = 1\n",
    "df_all.loc[df_all['amenities'].str.contains('Coffee maker|Cable TV|EV charger|Ethernet connection|Hair dryer|Heating|Internet|Laptop friendly workspace|Pocket wifi|TV'), 'essential_electronics'] = 1\n",
    "df_all.loc[df_all['amenities'].str.contains('Carbon monoxide detector|Smoke detector|Fire extinguisher|Lock on bedroom door|Lockbox|Safety card|Smart lock|Smartlock|Stair gates'), 'security'] = 1\n",
    "df_all.loc[df_all['amenities'].str.contains('Dishwasher|Washer / Dryer|Washer'), 'white_goods'] = 1\n",
    "df_all.loc[df_all['amenities'].str.contains('Elevator|Elevator in building'), 'elevator'] = 1\n",
    "df_all.loc[df_all['amenities'].str.contains('Children’s dinnerware|Children’s books and toys|Family/kid friendly|Baby bath|Baby monitor|Babysitter recommendations'), 'child_friendly'] = 1\n",
    "df_all.loc[df_all['amenities'].str.contains('parking|Gym|Paid parking off premises|Path to entrance lit at night|Luggage dropoff allowed'), 'facilities'] = 1\n",
    "df_all.loc[df_all['amenities'].str.contains('Garden|Outdoor|Sun loungers|Terrace'), 'outdoor_space'] = 1\n",
    "df_all.loc[df_all['amenities'].str.contains('Host greets you'), 'host_greeting'] = 1\n",
    "df_all.loc[df_all['amenities'].str.contains('Hot tub|Jetted tub|hot tub|Sauna|Pool|pool'), 'hot_tub_sauna_or_pool'] = 1\n",
    "df_all.loc[df_all['amenities'].str.contains('Long term stays allowed'), 'long_term_stays'] = 1\n",
    "df_all.loc[df_all['amenities'].str.contains('Pets|pet|Cat(s)|Dog(s)|Pets allowed|Pets live on this property'), 'pets_allowed'] = 1\n",
    "df_all.loc[df_all['amenities'].str.contains('Self check-in'), 'self_check_in'] = 1\n",
    "df_all.loc[df_all['amenities'].str.contains('Smoking allowed'), 'smoking_allowed'] = 1\n",
    "df_all.loc[df_all['amenities'].str.contains('Step-free access|Wheelchair|Accessible'), 'accessible'] = 1\n",
    "df_all.loc[df_all['amenities'].str.contains('Suitable for events'), 'event_suitable'] = 1"
   ]
  },
  {
   "cell_type": "markdown",
   "metadata": {},
   "source": [
    "In order to reduce the no. of features, Amenities that add relatively little information or having fewer than 10% of listings will be removed."
   ]
  },
  {
   "cell_type": "code",
   "execution_count": 70,
   "metadata": {},
   "outputs": [],
   "source": [
    "#replacing nulls with 0 in the above created columns.\n",
    "cols_to_replace_nulls = df_all.iloc[:,30:].columns\n",
    "df_all[cols_to_replace_nulls] = df_all[cols_to_replace_nulls].fillna(0)"
   ]
  },
  {
   "cell_type": "code",
   "execution_count": 71,
   "metadata": {},
   "outputs": [
    {
     "name": "stdout",
     "output_type": "stream",
     "text": [
      "['cooking_basics', 'balcony', 'nature_and_views', 'spacious_place', 'bath_accesories', 'outdoor_space', 'host_greeting', 'long_term_stays', 'self_check_in', 'smoking_allowed', 'accessible', 'event_suitable']\n"
     ]
    }
   ],
   "source": [
    "#Lists the amenities that have categories fewer than 10% of listings.\n",
    "fewer_amenities=[]\n",
    "for col in df_all.iloc[:,30:].columns:\n",
    "    if df_all[col].sum() < len(df_all)/10:\n",
    "        fewer_amenities.append(col)\n",
    "print(fewer_amenities)"
   ]
  },
  {
   "cell_type": "code",
   "execution_count": 72,
   "metadata": {},
   "outputs": [],
   "source": [
    "#Dropping infrequent amenity features\n",
    "df_all.drop(fewer_amenities, axis=1, inplace=True)\n",
    "\n",
    "#Dropping the original amenity feature\n",
    "df_all.drop('amenities',axis=1, inplace=True)"
   ]
  },
  {
   "cell_type": "code",
   "execution_count": 74,
   "metadata": {},
   "outputs": [
    {
     "data": {
      "text/plain": [
       "Williamsburg             2862\n",
       "Bedford-Stuyvesant       2166\n",
       "Bushwick                 1601\n",
       "Upper West Side          1396\n",
       "Mid-Wilshire             1392\n",
       "                         ... \n",
       "West Town                   1\n",
       "Watertown                   1\n",
       "Lighthouse HIll             1\n",
       "Coolidge Corner             1\n",
       "Massachusetts Heights       1\n",
       "Name: neighbourhood, Length: 619, dtype: int64"
      ]
     },
     "execution_count": 74,
     "metadata": {},
     "output_type": "execute_result"
    }
   ],
   "source": [
    "df_all['neighbourhood'].value_counts()"
   ]
  },
  {
   "cell_type": "markdown",
   "metadata": {},
   "source": [
    "#### Converting the `host_since`,`first_review`, and `last_review` to appropriate Dtype"
   ]
  },
  {
   "cell_type": "code",
   "execution_count": 17,
   "metadata": {},
   "outputs": [],
   "source": [
    "#Since host_since, first_review, last_review are date objects, converted them into pandas datetime64 ojbects\n",
    "df_all['host_since'] = pd.to_datetime(df_all['host_since'])\n",
    "df_all['first_review'] = pd.to_datetime(df_all['first_review'])\n",
    "df_all['last_review'] = pd.to_datetime(df_all['last_review'])"
   ]
  },
  {
   "cell_type": "code",
   "execution_count": 18,
   "metadata": {},
   "outputs": [],
   "source": [
    "df_all['host_active_days'] = (df_all['last_review'] - df_all['host_since']).astype('timedelta64[D]')"
   ]
  },
  {
   "cell_type": "code",
   "execution_count": 89,
   "metadata": {},
   "outputs": [],
   "source": [
    "#Calculating the time period in days b/w the last_review and the first_review\n",
    "df_all['time_since_first_review'] = (df_all['last_review'] - df_all['first_review']).astype('timedelta64[D]')"
   ]
  },
  {
   "cell_type": "code",
   "execution_count": 94,
   "metadata": {},
   "outputs": [
    {
     "data": {
      "text/plain": [
       "<AxesSubplot:>"
      ]
     },
     "execution_count": 94,
     "metadata": {},
     "output_type": "execute_result"
    },
    {
     "data": {
      "image/png": "[encoded data removed]",
      "text/plain": [
       "<Figure size 1080x432 with 1 Axes>"
      ]
     },
     "metadata": {
      "needs_background": "light"
     },
     "output_type": "display_data"
    }
   ],
   "source": [
    "# Distribution of the number of days b/w last & first reviews\n",
    "df_all['time_since_first_review'].hist(figsize=(15,6),bins=20,edgecolor='black', linewidth=1.2)"
   ]
  },
  {
   "cell_type": "markdown",
   "metadata": {},
   "source": [
    "The above histogram shows that most of the listings have No reviews or have joined recently. Vast majority of the distribution has joined/got reveiws with in the past two years.  "
   ]
  },
  {
   "cell_type": "markdown",
   "metadata": {},
   "source": [
    "#### `review_scores_rating`"
   ]
  },
  {
   "cell_type": "code",
   "execution_count": 95,
   "metadata": {},
   "outputs": [],
   "source": [
    "df_all['review_scores_rating'] = pd.cut(df_all['review_scores_rating'],\n",
    "                                     bins = [0,80,95,100],\n",
    "                                     labels = ['0-79/100','80-94/100','95-100/100'],\n",
    "                                     include_lowest=True)"
   ]
  },
  {
   "cell_type": "code",
   "execution_count": 96,
   "metadata": {},
   "outputs": [
    {
     "data": {
      "text/plain": [
       "95-100/100    31388\n",
       "80-94/100     22118\n",
       "no reviews    16722\n",
       "0-79/100       3882\n",
       "Name: review_scores_rating, dtype: int64"
      ]
     },
     "execution_count": 96,
     "metadata": {},
     "output_type": "execute_result"
    }
   ],
   "source": [
    "#converting the column to string\n",
    "df_all['review_scores_rating'] = df_all['review_scores_rating'].astype('str')\n",
    "\n",
    "#Replace null values with 'unknown' category\n",
    "df_all['review_scores_rating'].replace('nan','no reviews',inplace=True)\n",
    "\n",
    "#category counts\n",
    "df_all['review_scores_rating'].value_counts()"
   ]
  },
  {
   "cell_type": "code",
   "execution_count": 99,
   "metadata": {},
   "outputs": [
    {
     "name": "stdout",
     "output_type": "stream",
     "text": [
      "<class 'pandas.core.frame.DataFrame'>\n",
      "Int64Index: 74110 entries, 0 to 24110\n",
      "Data columns (total 43 columns):\n",
      " #   Column                   Non-Null Count  Dtype         \n",
      "---  ------                   --------------  -----         \n",
      " 0   id                       74110 non-null  int64         \n",
      " 1   property_type            74110 non-null  object        \n",
      " 2   room_type                74110 non-null  object        \n",
      " 3   accommodates             74110 non-null  int64         \n",
      " 4   bathrooms                74110 non-null  float64       \n",
      " 5   cancellation_policy      74110 non-null  object        \n",
      " 6   cleaning_fee             74110 non-null  bool          \n",
      " 7   city                     74110 non-null  object        \n",
      " 8   description              74109 non-null  object        \n",
      " 9   first_review             58246 non-null  datetime64[ns]\n",
      " 10  host_has_profile_pic     73922 non-null  float64       \n",
      " 11  host_identity_verified   73922 non-null  float64       \n",
      " 12  host_response_rate       74110 non-null  object        \n",
      " 13  host_since               73922 non-null  datetime64[ns]\n",
      " 14  instant_bookable         74110 non-null  int64         \n",
      " 15  last_review              58283 non-null  datetime64[ns]\n",
      " 16  latitude                 74110 non-null  float64       \n",
      " 17  longitude                74110 non-null  float64       \n",
      " 18  name                     74106 non-null  object        \n",
      " 19  neighbourhood            67238 non-null  object        \n",
      " 20  number_of_reviews        74110 non-null  int64         \n",
      " 21  review_scores_rating     74110 non-null  object        \n",
      " 22  thumbnail_url            65894 non-null  object        \n",
      " 23  zipcode                  73144 non-null  object        \n",
      " 24  bedrooms                 74110 non-null  float64       \n",
      " 25  beds                     74110 non-null  float64       \n",
      " 26  log_price                49999 non-null  float64       \n",
      " 27  data                     74110 non-null  object        \n",
      " 28  host_active_days         58131 non-null  float64       \n",
      " 29  check_in_24h             74110 non-null  float64       \n",
      " 30  air_conditioning         74110 non-null  float64       \n",
      " 31  high_end_electronics     74110 non-null  float64       \n",
      " 32  privacy                  74110 non-null  float64       \n",
      " 33  breakfast                74110 non-null  float64       \n",
      " 34  essential_electronics    74110 non-null  float64       \n",
      " 35  security                 74110 non-null  float64       \n",
      " 36  white_goods              74110 non-null  float64       \n",
      " 37  elevator                 74110 non-null  float64       \n",
      " 38  child_friendly           74110 non-null  float64       \n",
      " 39  facilities               74110 non-null  float64       \n",
      " 40  hot_tub_sauna_or_pool    74110 non-null  float64       \n",
      " 41  pets_allowed             74110 non-null  float64       \n",
      " 42  time_since_first_review  58246 non-null  float64       \n",
      "dtypes: bool(1), datetime64[ns](3), float64(23), int64(4), object(12)\n",
      "memory usage: 24.4+ MB\n"
     ]
    }
   ],
   "source": [
    "df_all.info()"
   ]
  },
  {
   "cell_type": "code",
   "execution_count": 98,
   "metadata": {},
   "outputs": [],
   "source": [
    "# Replacing columns with f/t with 0/1\n",
    "df_all.replace({'f': 0, 't': 1}, inplace=True)"
   ]
  },
  {
   "cell_type": "code",
   "execution_count": 104,
   "metadata": {},
   "outputs": [
    {
     "data": {
      "text/plain": [
       "Index(['property_type', 'room_type', 'cancellation_policy', 'city',\n",
       "       'description', 'host_response_rate', 'name', 'neighbourhood',\n",
       "       'review_scores_rating', 'thumbnail_url', 'zipcode', 'data'],\n",
       "      dtype='object')"
      ]
     },
     "execution_count": 104,
     "metadata": {},
     "output_type": "execute_result"
    }
   ],
   "source": [
    "df_all.select_dtypes('object').columns"
   ]
  },
  {
   "cell_type": "code",
   "execution_count": null,
   "metadata": {},
   "outputs": [],
   "source": []
  },
  {
   "cell_type": "code",
   "execution_count": null,
   "metadata": {},
   "outputs": [],
   "source": []
  },
  {
   "cell_type": "code",
   "execution_count": null,
   "metadata": {},
   "outputs": [],
   "source": []
  }
 ],
 "metadata": {
  "kernelspec": {
   "display_name": "Python 3",
   "language": "python",
   "name": "python3"
  },
  "language_info": {
   "codemirror_mode": {
    "name": "ipython",
    "version": 3
   },
   "file_extension": ".py",
   "mimetype": "text/x-python",
   "name": "python",
   "nbconvert_exporter": "python",
   "pygments_lexer": "ipython3",
   "version": "3.8.3"
  }
 },
 "nbformat": 4,
 "nbformat_minor": 4
}
